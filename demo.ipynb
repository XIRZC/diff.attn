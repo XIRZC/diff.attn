{
 "cells": [
  {
   "cell_type": "code",
   "execution_count": 1,
   "metadata": {},
   "outputs": [],
   "source": [
    "from diffusers import StableDiffusionPipeline\n",
    "from attn_utils import parse_args, attn_vis\n",
    "from attn_const import *\n",
    "\n",
    "# Load default options\n",
    "args = parse_args()\n",
    "sd_model = StableDiffusionPipeline.from_pretrained(MODEL_DICT[args.model]).to(f\"cuda:{args.device}\")"
   ]
  },
  {
   "cell_type": "code",
   "execution_count": null,
   "metadata": {},
   "outputs": [
    {
     "name": "stdout",
     "output_type": "stream",
     "text": [
      "=> Running at generative cross-attention visualizing mode for prompt(A panda holding a board saying 'Hello') with seed(332)\n"
     ]
    },
    {
     "data": {
      "application/vnd.jupyter.widget-view+json": {
       "model_id": "87a45d4f4f694dfc907ba3be261ef623",
       "version_major": 2,
       "version_minor": 0
      },
      "text/plain": [
       "  0%|          | 0/51 [00:00<?, ?it/s]"
      ]
     },
     "metadata": {},
     "output_type": "display_data"
    }
   ],
   "source": [
    "# Fixed seed for all random items\n",
    "args.seed = 332\n",
    "# Visualize generated and attention image\n",
    "args.vis = True\n",
    "# Discriminative or generative visualization\n",
    "args.option = 'gen'\n",
    "# Image path for discriminative mode\n",
    "args.image = './demo.png'\n",
    "# Prompt string for both mode\n",
    "args.prompt = \"A panda holding a board saying 'Hello'\"\n",
    "\n",
    "# Visualize and save\n",
    "attn_vis(args, sd_model)"
   ]
  }
 ],
 "metadata": {
  "kernelspec": {
   "display_name": "Python 3 (ipykernel)",
   "language": "python",
   "name": "python3"
  },
  "language_info": {
   "codemirror_mode": {
    "name": "ipython",
    "version": 3
   },
   "file_extension": ".py",
   "mimetype": "text/x-python",
   "name": "python",
   "nbconvert_exporter": "python",
   "pygments_lexer": "ipython3",
   "version": "3.8.17"
  }
 },
 "nbformat": 4,
 "nbformat_minor": 4
}
